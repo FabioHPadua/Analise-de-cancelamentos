{
 "cells": [
  {
   "cell_type": "markdown",
   "metadata": {},
   "source": [
    "# Python Insights - Analisando Dados com Python\n",
    "\n",
    "### Case - Cancelamento de Clientes\n",
    "\n",
    "Você foi contratado por uma empresa com mais de 800 mil clientes para um projeto de Dados. Recentemente a empresa percebeu que da sua base total de clientes, a maioria são clientes inativos, ou seja, que já cancelaram o serviço.\n",
    "\n",
    "Precisando melhorar seus resultados ela quer conseguir entender os principais motivos desses cancelamentos e quais as ações mais eficientes para reduzir esse número.\n",
    "\n",
    "Base de dados e arquivos: https://drive.google.com/drive/folders/1uDesZePdkhiraJmiyeZ-w5tfc8XsNYFZ?usp=drive_link"
   ]
  },
  {
   "cell_type": "code",
   "execution_count": null,
   "metadata": {},
   "outputs": [],
   "source": [
    "# 1. importar base de dados de clientes\n",
    "import pandas as pd\n",
    "\n",
    "tabela = pd.read_csv(\"cancelamentos.csv\")\n",
    "\n",
    "\n",
    "# 2. visualizar base de dados\n",
    "display (tabela)\n",
    "    #entender quais informações estão disponíveis\n",
    "    #identificar erros da base de dados\n",
    "# 3. tratar os dados\n",
    "tabela=tabela.drop(columns=\"CustomerID\")    #retirar informações que não estão ligados ao ato de cancelar\n",
    "tabela=tabela.dropna()   #limpar valores vazios\n",
    "display(tabela)\n",
    "display(tabela.info())"
   ]
  },
  {
   "cell_type": "code",
   "execution_count": 50,
   "metadata": {},
   "outputs": [
    {
     "data": {
      "text/plain": [
       "cancelou\n",
       "1.0    499993\n",
       "0.0    381666\n",
       "Name: count, dtype: int64"
      ]
     },
     "metadata": {},
     "output_type": "display_data"
    },
    {
     "data": {
      "text/plain": [
       "cancelou\n",
       "1.0    0.567105\n",
       "0.0    0.432895\n",
       "Name: proportion, dtype: float64"
      ]
     },
     "metadata": {},
     "output_type": "display_data"
    }
   ],
   "source": [
    "# 4. análise dos cancelamentos\n",
    "display(tabela[\"cancelou\"].value_counts())\n",
    "display(tabela[\"cancelou\"].value_counts(normalize=True)) #percentual"
   ]
  },
  {
   "cell_type": "code",
   "execution_count": null,
   "metadata": {},
   "outputs": [],
   "source": [
    "# 5. causas de cancelamentos (impacto de cada informação no ato de cancelamento)\n",
    "    #importar biblioteca de gráficos\n",
    "import plotly.express as px\n",
    "\n",
    "for coluna in tabela.columns:\n",
    "    #criar o grafico\n",
    "    graf=px.histogram(tabela, x=coluna, color=\"cancelou\")    \n",
    "    graf.show()    #exibir o grafico "
   ]
  },
  {
   "cell_type": "code",
   "execution_count": 52,
   "metadata": {},
   "outputs": [],
   "source": [
    "#com os graficos gerados no passo #5. tem-se as seguintes conclusões\n",
    "#clientes de contrato mensal sempre cancelam\n",
    "    #verificar viabilidade de dar desconto para aumentar contratos anuais e trimestrais\n",
    "\n",
    "# clientes acima de 50 anos sempre cancelam\n",
    "    #buscar causas \n",
    "\n",
    "# a proporção de mulheres que cancelam é de  62,87% enquanto homens é de 49,10%\n",
    "    #buscar causas\n",
    "\n",
    "# a partir da terceira liação para o call center maior parte dos clientes cancelam sendo que a partir de 6 ligações todos cancelam\n",
    "    #gerar alerta máximo para resolver problema do cliente no terceiro contato pelo call center\n",
    "\n",
    "# a partir de 20 dias de atrazo todos os clientes cancelam\n",
    "    #criar sistema de cobrança ou negociação de dívida a partir de 10 dias para evitar que o cliente atrase mais de 20 dias\n",
    "\n",
    "# a partir de 500 reais gastos grande parte dos clientes tendem a manter o serviço\n",
    "\n",
    "# há um aumento da proporção de cancelamento dos clientes que ficam sem entrar contato por mais de 15 meses"
   ]
  },
  {
   "cell_type": "code",
   "execution_count": 53,
   "metadata": {},
   "outputs": [
    {
     "data": {
      "text/plain": [
       "cancelou\n",
       "0.0    0.539492\n",
       "1.0    0.460508\n",
       "Name: proportion, dtype: float64"
      ]
     },
     "metadata": {},
     "output_type": "display_data"
    }
   ],
   "source": [
    "#cenário 1: se não houvessem clientes com contrato mensal\n",
    "tabela1=tabela[tabela[\"duracao_contrato\"]!= \"Monthly\"]\n",
    "display(tabela1[\"cancelou\"].value_counts(normalize=True)) #percentual"
   ]
  },
  {
   "cell_type": "code",
   "execution_count": 54,
   "metadata": {},
   "outputs": [
    {
     "data": {
      "text/plain": [
       "cancelou\n",
       "0.0    0.637244\n",
       "1.0    0.362756\n",
       "Name: proportion, dtype: float64"
      ]
     },
     "metadata": {},
     "output_type": "display_data"
    }
   ],
   "source": [
    "# cenário 2: se não houvessem clientes com mais de 4 ligações pro callcenter\n",
    "tabela2=tabela[tabela[\"ligacoes_callcenter\"]<=4]\n",
    "display(tabela2[\"cancelou\"].value_counts(normalize=True))"
   ]
  },
  {
   "cell_type": "code",
   "execution_count": 55,
   "metadata": {},
   "outputs": [
    {
     "data": {
      "text/plain": [
       "cancelou\n",
       "0.0    0.534845\n",
       "1.0    0.465155\n",
       "Name: proportion, dtype: float64"
      ]
     },
     "metadata": {},
     "output_type": "display_data"
    }
   ],
   "source": [
    "# cenário 3: se não houvessem clientes com mais de 20 dias de atraso\n",
    "tabela3= tabela[tabela[\"dias_atraso\"]<=20]\n",
    "display(tabela3[\"cancelou\"].value_counts(normalize=True))"
   ]
  },
  {
   "cell_type": "code",
   "execution_count": 56,
   "metadata": {},
   "outputs": [
    {
     "data": {
      "text/plain": [
       "cancelou\n",
       "0.0    0.816037\n",
       "1.0    0.183963\n",
       "Name: proportion, dtype: float64"
      ]
     },
     "metadata": {},
     "output_type": "display_data"
    }
   ],
   "source": [
    "# cenário 4: combinação dos 3 cenários anteriores\n",
    "tabela4=tabela[tabela[\"duracao_contrato\"]!= \"Monthly\"]\n",
    "tabela4=tabela4[tabela4[\"ligacoes_callcenter\"]<=4]\n",
    "tabela4=tabela4[tabela4[\"dias_atraso\"]<=20]\n",
    "display(tabela4[\"cancelou\"].value_counts(normalize=True))"
   ]
  }
 ],
 "metadata": {
  "kernelspec": {
   "display_name": "base",
   "language": "python",
   "name": "python3"
  },
  "language_info": {
   "codemirror_mode": {
    "name": "ipython",
    "version": 3
   },
   "file_extension": ".py",
   "mimetype": "text/x-python",
   "name": "python",
   "nbconvert_exporter": "python",
   "pygments_lexer": "ipython3",
   "version": "3.12.3"
  },
  "orig_nbformat": 4
 },
 "nbformat": 4,
 "nbformat_minor": 2
}
